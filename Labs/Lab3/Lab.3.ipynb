{
 "cells": [
  {
   "cell_type": "markdown",
   "metadata": {},
   "source": [
    "## Lab 3\n",
    "\n",
    "In this lab we will become familiar with distributions, histograms, and functional programming. Before that, lets submit your Quiz from last lecture. Do not use numpy or any other library for this lab. \n",
    "\n",
    "### Quiz Submission\n",
    "\n",
    "The instructions here aim to have our course repository be public (enabling things like the colab links), while student repositories are private. You should be familiar with git from the first semester of this course. I assume that you all have github accounts and have setup things to be able to [push to github using ssh](https://docs.github.com/en/github/authenticating-to-github/connecting-to-github-with-ssh). The instuctions here lead you to:\n",
    "\n",
    "1. Create a directory on your personal system where you will keep all course materials.\n",
    "1. Clone the [course repository](https://github.com/UTA-DataScience/DATA3402.Fall.2023).\n",
    "1. Create a new private repository for your solutions. \n",
    "1. Copy lab notebooks from course repository to your solutions repository.\n",
    "1. Commit / push your solutions.\n",
    "1. Grant access to course instructors.\n",
    "\n",
    "Ideally, you should be able to do all of these steps yourself. Below are step by step instructions with examples (including example directory naming convention). Feel free to modify things as you see fit. The goal here to have a private repo where you can submit your solutions. \n",
    "\n",
    "1. Open a shell on your personal computer.\n",
    "1. If you have not done so already, create a new directory/folder where you will keep all course material to navigate to it. For example: `mkdir Data-3402` and `cd Data-3402`.\n",
    "1. Clone the course repository: `git clone https://github.com/UTA-DataScience/DATA3402.Fall.2023`.\n",
    "   1. Note that after the this clone, you simply need to navigate to this directory and do `git pull` to get updates (e.g. new labs).\n",
    "1. Make a new directory for your solutions and navigate to it: `mkdir DATA3402.Solutions.$USER` and `cd  DATA3402.Solutions.$USER`\n",
    "1. Make new directory for Labs and Lab 2: `mkdir Labs ; mkdir Labs/Labs.2`.\n",
    "1. Place your Quiz 1 solutions it this directory: `cp <path_to_solution> Labs/Labs.2 `\n",
    "   1. For Lab 2 and the future labs, just copy labs from the class repo, for example here: \n",
    "      * `mkdir Labs/Lab.3`\n",
    "      * `cp ../DATA3402.Fall.2023/Labs/Lab.3/Lab.3.ipynb Labs/Lab.3`\n",
    "1. Create a new git repository with same name are your directory above (i.e. `DATA3402.Solutions.$USER`). \n",
    "   * Navigate to your page on github.\n",
    "   * Use the \"+\" button to create a new repository.\n",
    "   * Make sure your repository is private.\n",
    "   * github will give you instructions on \"create a new repository on the command line\"\n",
    "1. After creating the repository, go to the repository settings tab, select \"Manage access\" on left, and press \"Invite a collaborator\" to invite course instructor (username `afarbin`). You'll do the same for our TA, once we have one for this course.\n",
    "1. To submit your labs, navigate to your private repo and \n",
    "   1. Make sure you have added the lab. For example: `git add Labs/Lab.2/Lab.2.ipynb`\n",
    "   1. Commit any changes: `git commit -a -m \"Lab 2 updates\"`\n",
    "   1. Push your changes: `git push`\n",
    "   1. Check on github that your solutions have been properly submitted.\n",
    "   \n",
    "   \n",
    "After submitting Quiz 1, continue work on lab 2, or start the remainder of this lab..."
   ]
  },
  {
   "cell_type": "markdown",
   "metadata": {},
   "source": [
    "### Uniform Distribution\n",
    "Lets start with generating some fake random data. You can get a random number between 0 and 1 using the python random module as follow:"
   ]
  },
  {
   "cell_type": "code",
   "execution_count": 5,
   "metadata": {},
   "outputs": [
    {
     "name": "stdout",
     "output_type": "stream",
     "text": [
      "The Value of x is 0.902838559442518\n"
     ]
    }
   ],
   "source": [
    "import random\n",
    "x=random.random()\n",
    "print(\"The Value of x is\", x)"
   ]
  },
  {
   "cell_type": "markdown",
   "metadata": {},
   "source": [
    "Everytime you call random, you will get a new number.\n",
    "\n",
    "*Exercise 1:* Using random, write a function `generate_uniform(N, mymin, mymax)`, that returns a python list containing N random numbers between specified minimum and maximum value. Note that you may want to quickly work out on paper how to turn numbers between 0 and 1 to between other values. "
   ]
  },
  {
   "cell_type": "code",
   "execution_count": 21,
   "metadata": {},
   "outputs": [],
   "source": [
    "# Skeleton\n",
    "import random\n",
    "def generate_uniform(N,x_min,x_max):\n",
    "    out = []\n",
    "    ### BEGIN SOLUTION\n",
    "    span = x_max - x_min\n",
    "    for i in range(N):\n",
    "        out += [random.random() * span + x_min]\n",
    "    ### END SOLUTION\n",
    "    return out"
   ]
  },
  {
   "cell_type": "code",
   "execution_count": 22,
   "metadata": {},
   "outputs": [
    {
     "name": "stdout",
     "output_type": "stream",
     "text": [
      "Data Type: <class 'list'>\n",
      "Data Length: 1000\n",
      "Type of Data Contents: <class 'float'>\n",
      "Data Minimum: -9.995909579737782\n",
      "Data Maximum: 9.946736033826376\n"
     ]
    }
   ],
   "source": [
    "# Test your solution here\n",
    "data=generate_uniform(1000,-10,10)\n",
    "print (\"Data Type:\", type(data))\n",
    "print (\"Data Length:\", len(data))\n",
    "if len(data)>0: \n",
    "    print (\"Type of Data Contents:\", type(data[0]))\n",
    "    print (\"Data Minimum:\", min(data))\n",
    "    print (\"Data Maximum:\", max(data))"
   ]
  },
  {
   "cell_type": "markdown",
   "metadata": {},
   "source": [
    "*Exercise 2a:* \n",
    "Write a function that computes the mean of values in a list. Recall the equation for the mean of a random variable $\\bf{x}$ computed on a data set of $n$ values $\\{ x_i \\} = \\{x_1, x_2, ..., x_n\\}$  is ${\\bf\\bar{x}} = \\frac{1}{n} \\sum_i^n x_i$."
   ]
  },
  {
   "cell_type": "code",
   "execution_count": 23,
   "metadata": {},
   "outputs": [],
   "source": [
    "# Skeleton\n",
    "def mean(Data):\n",
    "    m=0.\n",
    "    \n",
    "    ### BEGIN SOLUTION\n",
    "    length = len(Data)\n",
    "    for i in range(length):\n",
    "        m += Data[i]\n",
    "    m = m / length\n",
    "    ### END SOLUTION\n",
    "    \n",
    "    return m"
   ]
  },
  {
   "cell_type": "code",
   "execution_count": 24,
   "metadata": {},
   "outputs": [
    {
     "name": "stdout",
     "output_type": "stream",
     "text": [
      "Mean of Data: -0.08957495546562694\n"
     ]
    }
   ],
   "source": [
    "# Test your solution here\n",
    "print (\"Mean of Data:\", mean(data))"
   ]
  },
  {
   "cell_type": "markdown",
   "metadata": {},
   "source": [
    "*Exercise 2b:* \n",
    "Write a function that computes the variance of values in a list. Recall the equation for the variance of a random variable $\\bf{x}$ computed on a data set of $n$ values $\\{ x_i \\} = \\{x_1, x_2, ..., x_n\\}$  is ${\\bf\\langle x \\rangle} = \\frac{1}{n} \\sum_i^n (x_i - {\\bf\\bar{x}})$."
   ]
  },
  {
   "cell_type": "code",
   "execution_count": 25,
   "metadata": {},
   "outputs": [],
   "source": [
    "# Skeleton\n",
    "# Shouldn't it be a mean of squared differences rather than a mean of differences or a mean of absolute differences?\n",
    "def variance(Data):\n",
    "    m=0.\n",
    "    \n",
    "    ### BEGIN SOLUTION\n",
    "    length = len(Data)\n",
    "    for i in range(length):\n",
    "        m += (Data[i] - mean(Data)) ** 2\n",
    "    m = m / length\n",
    "    ### END SOLUTION\n",
    "    \n",
    "    return m"
   ]
  },
  {
   "cell_type": "code",
   "execution_count": 26,
   "metadata": {},
   "outputs": [
    {
     "name": "stdout",
     "output_type": "stream",
     "text": [
      "Variance of Data: 33.12997845121771\n"
     ]
    }
   ],
   "source": [
    "# Test your solution here\n",
    "print (\"Variance of Data:\", variance(data))"
   ]
  },
  {
   "cell_type": "markdown",
   "metadata": {},
   "source": [
    "## Histogramming"
   ]
  },
  {
   "cell_type": "markdown",
   "metadata": {},
   "source": [
    "*Exercise 3:* Write a function that bins the data so that you can create a histogram. An example of how to implement histogramming is the following logic:\n",
    "\n",
    "* User inputs a list of values `x` and optionally `n_bins` which defaults to 10.\n",
    "* If not supplied, find the minimum and maximum (`x_min`,`x_max`) of the values in x.\n",
    "* Determine the bin size (`bin_size`) by dividing the range of the function by the number of bins.\n",
    "* Create an empty list of zeros of size `n_bins`, call it `hist`.\n",
    "* Loop over the values in `x`\n",
    "    * Loop over the values in `hist` with index `i`:\n",
    "        * If x is between `x_min+i*bin_size` and `x_min+(i+1)*bin_size`, increment `hist[i].` \n",
    "        * For efficiency, try to use continue to goto the next bin and data point.\n",
    "* Return `hist` and the list corresponding of the bin edges (i.e. of `x_min+i*bin_size`).    "
   ]
  },
  {
   "cell_type": "code",
   "execution_count": 27,
   "metadata": {},
   "outputs": [],
   "source": [
    "# Solution\n",
    "def histogram(x,n_bins=10,x_min=None,x_max=None):\n",
    "    ### BEGIN SOLUTION\n",
    "    if x_min == None:\n",
    "        x_min = min(x)\n",
    "    if x_max == None:\n",
    "        x_max = max(x)\n",
    "    span = x_max - x_min\n",
    "    bin_size = span / n_bins\n",
    "    hist = [0] * n_bins\n",
    "    for j in range(len(x)):\n",
    "        i = int((x[j] - x_min) / bin_size)\n",
    "        if i >= n_bins:\n",
    "            i = n_bins - 1\n",
    "        hist[i] += 1\n",
    "    bin_edges = [x_min]\n",
    "    for i in range(n_bins):\n",
    "        bin_edges += [(i+1)*bin_size+x_min]\n",
    "    ### END SOLUTION\n",
    "\n",
    "    return hist,bin_edges"
   ]
  },
  {
   "cell_type": "code",
   "execution_count": 28,
   "metadata": {},
   "outputs": [
    {
     "name": "stdout",
     "output_type": "stream",
     "text": [
      "[12, 9, 14, 13, 10, 15, 5, 13, 8, 11, 7, 11, 8, 11, 8, 8, 9, 8, 7, 10, 13, 11, 8, 14, 13, 5, 5, 11, 10, 9, 9, 12, 13, 10, 4, 15, 10, 16, 10, 12, 11, 10, 11, 9, 7, 8, 8, 9, 15, 3, 8, 9, 12, 17, 8, 14, 10, 11, 8, 9, 10, 13, 8, 11, 12, 8, 4, 11, 12, 11, 8, 10, 11, 4, 9, 17, 8, 14, 13, 9, 8, 15, 10, 11, 8, 9, 8, 9, 7, 12, 10, 6, 9, 10, 12, 8, 15, 10, 8, 8]\n"
     ]
    }
   ],
   "source": [
    "# Test your solution here\n",
    "h,b=histogram(data,100)\n",
    "print(h)"
   ]
  },
  {
   "cell_type": "markdown",
   "metadata": {},
   "source": [
    "*Exercise 4:* Write a function that uses the histogram function in the previous exercise to create a text-based \"graph\". For example the output could look like the following:\n",
    "```\n",
    "[  0,  1] : ######\n",
    "[  1,  2] : #####\n",
    "[  2,  3] : ######\n",
    "[  3,  4] : ####\n",
    "[  4,  5] : ####\n",
    "[  5,  6] : ######\n",
    "[  6,  7] : #####\n",
    "[  7,  8] : ######\n",
    "[  8,  9] : ####\n",
    "[  9, 10] : #####\n",
    "```\n",
    "\n",
    "Where each line corresponds to a bin and the number of `#`'s are proportional to the value of the data in the bin. "
   ]
  },
  {
   "cell_type": "code",
   "execution_count": 29,
   "metadata": {},
   "outputs": [],
   "source": [
    "# Solution\n",
    "def draw_histogram(x,n_bins,x_min=None,x_max=None,character=\"#\",max_character_per_line=20):\n",
    "    ### BEGIN SOLUTION\n",
    "    o = [\"[\"] * n_bins\n",
    "    out = \"\"\n",
    "    h,b=histogram(x,n_bins,x_min=None,x_max=None)\n",
    "    M=max(h)\n",
    "    numLen=0\n",
    "    def L(i):\n",
    "        return len(str(b[i]))\n",
    "    for i in range(len(b)):\n",
    "        if numLen < L(i):\n",
    "            numLen = L(i)\n",
    "    for i in range(n_bins):\n",
    "        s1 = numLen - L(i)\n",
    "        s2 = numLen - L(i+1)\n",
    "        o[i] += \" \" * s1 + str(b[i]) + \",\"\n",
    "        o[i] += \" \" * s2 + str(b[i + 1]) + \"] : \"\n",
    "        o[i] += character * int(h[i] * max_character_per_line / M)\n",
    "        out += o[i] + \"\\n\"\n",
    "    hist = h\n",
    "    bin_edges = b\n",
    "    print(out)\n",
    "    ### END SOLUTION\n",
    "\n",
    "    return hist,bin_edges"
   ]
  },
  {
   "cell_type": "code",
   "execution_count": 30,
   "metadata": {},
   "outputs": [
    {
     "name": "stdout",
     "output_type": "stream",
     "text": [
      "[  -9.995909579737782,  -8.998777299059574] : ##################\n",
      "[  -8.998777299059574,  -8.001645018381366] : ################\n",
      "[  -8.001645018381366,  -7.004512737703158] : ##############\n",
      "[  -7.004512737703158,  -6.007380457024951] : #############\n",
      "[  -6.007380457024951,  -5.010248176346742] : ##################\n",
      "[  -5.010248176346742,  -4.013115895668534] : ############\n",
      "[  -4.013115895668534, -3.0159836149903265] : ###############\n",
      "[ -3.0159836149903265,  -2.018851334312118] : ####################\n",
      "[  -2.018851334312118, -1.0217190536339107] : ###############\n",
      "[ -1.0217190536339107,-0.02458677295570233] : #############\n",
      "[-0.02458677295570233,   0.972545507722506] : #################\n",
      "[   0.972545507722506,  1.9696777884007144] : ################\n",
      "[  1.9696777884007144,  2.9668100690789228] : #################\n",
      "[  2.9668100690789228,  3.9639423497571293] : ##############\n",
      "[  3.9639423497571293,   4.961074630435338] : #############\n",
      "[   4.961074630435338,   5.958206911113546] : ###################\n",
      "[   5.958206911113546,   6.955339191791753] : ################\n",
      "[   6.955339191791753,   7.952471472469961] : ##############\n",
      "[   7.952471472469961,    8.94960375314817] : ##############\n",
      "[    8.94960375314817,   9.946736033826378] : ###############\n",
      "\n"
     ]
    }
   ],
   "source": [
    "# Test your solution here\n",
    "h,b=draw_histogram(data,20)"
   ]
  },
  {
   "cell_type": "markdown",
   "metadata": {},
   "source": [
    "## Functional Programming\n",
    "\n",
    "*Exercise 5:* Write a function the applies a booling function (that returns true/false) to every element in data, and return a list of indices of elements where the result was true. Use this function to find the indices of entries greater than 0.5. "
   ]
  },
  {
   "cell_type": "code",
   "execution_count": 31,
   "metadata": {},
   "outputs": [],
   "source": [
    "def where(mylist,myfunc):\n",
    "    out= []\n",
    "    \n",
    "    ### BEGIN SOLUTION\n",
    "    for i in range(len(mylist)):\n",
    "        if myfunc(mylist[i]):\n",
    "            out += [i]\n",
    "    ### END SOLUTION\n",
    "    \n",
    "    return out"
   ]
  },
  {
   "cell_type": "code",
   "execution_count": 32,
   "metadata": {},
   "outputs": [
    {
     "name": "stdout",
     "output_type": "stream",
     "text": [
      "[0, 1, 2, 4, 14, 15, 17, 19, 22, 23, 24, 25, 26, 33, 36, 37, 40, 41, 42, 43, 46, 47, 49, 51, 53, 57, 62, 64, 68, 69, 72, 74, 76, 77, 78, 83, 86, 87, 89, 90, 94, 97, 98, 100, 102, 104, 108, 110, 111, 112, 113, 117, 119, 120, 121, 122, 124, 126, 127, 131, 132, 135, 136, 137, 143, 144, 146, 147, 148, 154, 155, 156, 157, 159, 160, 162, 163, 164, 165, 168, 169, 170, 171, 178, 179, 180, 182, 187, 195, 196, 199, 200, 202, 203, 204, 205, 206, 208, 211, 212, 213, 216, 217, 218, 224, 226, 233, 235, 237, 238, 242, 243, 247, 249, 250, 252, 254, 256, 257, 258, 260, 261, 263, 267, 268, 269, 273, 275, 276, 279, 280, 283, 286, 288, 295, 296, 297, 299, 300, 301, 302, 303, 304, 306, 307, 310, 313, 314, 315, 318, 319, 321, 323, 325, 326, 330, 333, 335, 336, 339, 340, 341, 342, 345, 348, 350, 351, 353, 354, 355, 356, 357, 359, 360, 361, 367, 370, 372, 373, 374, 377, 381, 384, 386, 388, 392, 399, 400, 405, 406, 407, 408, 409, 411, 414, 418, 419, 425, 426, 428, 429, 433, 434, 436, 437, 439, 440, 441, 442, 445, 446, 447, 448, 449, 450, 452, 454, 457, 458, 459, 462, 463, 465, 466, 470, 471, 472, 474, 475, 476, 480, 481, 482, 484, 485, 486, 487, 488, 491, 492, 496, 497, 503, 504, 505, 511, 512, 514, 516, 520, 522, 524, 528, 533, 534, 536, 537, 538, 540, 542, 543, 548, 549, 550, 551, 555, 556, 558, 563, 564, 566, 567, 568, 569, 570, 571, 574, 575, 579, 580, 581, 586, 588, 589, 590, 591, 595, 598, 599, 600, 601, 602, 603, 604, 605, 607, 609, 610, 611, 612, 613, 616, 620, 621, 623, 624, 630, 633, 635, 636, 639, 641, 642, 645, 648, 649, 651, 652, 654, 656, 659, 661, 663, 664, 665, 666, 668, 670, 675, 676, 677, 679, 685, 693, 694, 695, 697, 700, 701, 702, 704, 706, 707, 708, 710, 713, 715, 716, 719, 720, 725, 727, 729, 730, 732, 734, 735, 736, 738, 739, 742, 743, 751, 752, 754, 761, 762, 768, 771, 772, 774, 776, 777, 781, 784, 785, 787, 788, 790, 793, 794, 795, 799, 801, 803, 805, 813, 814, 818, 820, 822, 823, 825, 826, 827, 829, 833, 836, 838, 840, 842, 843, 844, 848, 849, 851, 853, 854, 855, 856, 857, 860, 861, 862, 863, 864, 866, 867, 868, 870, 873, 877, 878, 879, 881, 882, 883, 884, 889, 890, 892, 895, 896, 897, 898, 901, 902, 908, 909, 911, 912, 915, 918, 920, 921, 922, 924, 926, 928, 931, 935, 936, 937, 938, 942, 944, 945, 948, 950, 952, 953, 958, 960, 961, 962, 968, 975, 976, 978, 980, 982, 985, 986, 988, 990, 993, 997, 998]\n"
     ]
    }
   ],
   "source": [
    "# Test your solution here\n",
    "def f(x):\n",
    "    if x > 0.5:\n",
    "        return True\n",
    "print(where(data,f))"
   ]
  },
  {
   "cell_type": "markdown",
   "metadata": {},
   "source": [
    "*Exercise 6:* The `inrange(mymin,mymax)` function below returns a function that tests if it's input is between the specified values. Write corresponding functions that test:\n",
    "* Even\n",
    "* Odd\n",
    "* Greater than\n",
    "* Less than\n",
    "* Equal\n",
    "* Divisible by"
   ]
  },
  {
   "cell_type": "code",
   "execution_count": 33,
   "metadata": {},
   "outputs": [
    {
     "name": "stdout",
     "output_type": "stream",
     "text": [
      "True True True False False\n",
      "False False True True True\n",
      "Number of Entries passing F1: 501\n",
      "Number of Entries passing F2: 0\n"
     ]
    }
   ],
   "source": [
    "# Original \"in_range(mymin,mymax)\" function:\n",
    "#def in_range(mymin,mymax):\n",
    "#    def testrange(x):\n",
    "#        return x<mymax and x>=mymin\n",
    "#    return testrange\n",
    "\n",
    "# Edited \"in_range(mymin,mymax)\" function:\n",
    "def in_range(mymin,mymax):\n",
    "    def returnfunc(x):\n",
    "        return x>=mymin and x<=mymax\n",
    "    return returnfunc\n",
    "\n",
    "# Examples:\n",
    "F1=in_range(0,10)\n",
    "F2=in_range(10,20)\n",
    "\n",
    "# Test of in_range\n",
    "print (F1(0), F1(1), F1(10), F1(15), F1(20))\n",
    "print (F2(0), F2(1), F2(10), F2(15), F2(20))\n",
    "\n",
    "print (\"Number of Entries passing F1:\", len(where(data,F1)))\n",
    "print (\"Number of Entries passing F2:\", len(where(data,F2)))"
   ]
  },
  {
   "cell_type": "code",
   "execution_count": 34,
   "metadata": {},
   "outputs": [],
   "source": [
    "### BEGIN SOLUTION\n",
    "def Even(x):\n",
    "    return int(x) == x and (x/2) == int(x/2)\n",
    "def Odd(x):\n",
    "    return int(x) == x and (x/2) != int(x/2)\n",
    "def greater(y):\n",
    "    def greaterThanY(x):\n",
    "        return x > y\n",
    "    return greaterThanY\n",
    "def lesser(y):\n",
    "    def lessThanY(x):\n",
    "        return x < y\n",
    "    return lessThanY\n",
    "def equal(y):\n",
    "    def equalTo(x):\n",
    "        return x == y\n",
    "    return equalTo\n",
    "def divisible(y):\n",
    "    def divisibleBy(x):\n",
    "        return int(x / y) == (x / y)\n",
    "    return divisibleBy\n",
    "### END SOLUTION"
   ]
  },
  {
   "cell_type": "code",
   "execution_count": 35,
   "metadata": {},
   "outputs": [
    {
     "name": "stdout",
     "output_type": "stream",
     "text": [
      "even\n",
      "[1, 4]\n",
      "odd:\n",
      "[0, 6]\n",
      "greater than 1:\n",
      "[1, 2, 3]\n",
      "less than 1:\n",
      "[4, 5, 7]\n",
      "equal to 1:\n",
      "[0, 6]\n",
      "divisible by 2:\n",
      "[1, 3, 5, 7]\n",
      "divisible by 0.5\n",
      "[0, 2, 3, 4, 5, 6, 8]\n",
      "# even\n",
      "2\n",
      "# odd:\n",
      "2\n",
      "# greater than 1:\n",
      "3\n",
      "# less than 1:\n",
      "3\n",
      "# equal to 1:\n",
      "2\n",
      "# divisible by 2:\n",
      "4\n",
      "# divisible by 0.5\n",
      "7\n"
     ]
    }
   ],
   "source": [
    "# Test your solution\n",
    "print(\"even\")\n",
    "print(where([1,2,1.5,2.5,-2,-2.5,1,-1.5],Even))\n",
    "print(\"odd:\")\n",
    "print(where([1,2,1.5,2.5,-2,-2.5,1,-1.5],Odd))\n",
    "print(\"greater than 1:\")\n",
    "print(where([1,2,1.5,2.5,-2,-2.5,1,-1.5],greater(1)))\n",
    "print(\"less than 1:\")\n",
    "print(where([1,2,1.5,2.5,-2,-2.5,1,-1.5],lesser(1)))\n",
    "print(\"equal to 1:\")\n",
    "print(where([1,2,1.5,2.5,-2,-2.5,1,-1.5],equal(1)))\n",
    "print(\"divisible by 2:\")\n",
    "print(where([1,2,3,4,5,6,7,8,9],divisible(2)))\n",
    "print(\"divisible by 0.5\")\n",
    "print(where([0,0.1,0.5,1,2,3,3.5,3.9,4],divisible(0.5)))\n",
    "\n",
    "print(\"# even\")\n",
    "print(len(where([1,2,1.5,2.5,-2,-2.5,1,-1.5],Even)))\n",
    "print(\"# odd:\")\n",
    "print(len(where([1,2,1.5,2.5,-2,-2.5,1,-1.5],Odd)))\n",
    "print(\"# greater than 1:\")\n",
    "print(len(where([1,2,1.5,2.5,-2,-2.5,1,-1.5],greater(1))))\n",
    "print(\"# less than 1:\")\n",
    "print(len(where([1,2,1.5,2.5,-2,-2.5,1,-1.5],lesser(1))))\n",
    "print(\"# equal to 1:\")\n",
    "print(len(where([1,2,1.5,2.5,-2,-2.5,1,-1.5],equal(1))))\n",
    "print(\"# divisible by 2:\")\n",
    "print(len(where([1,2,3,4,5,6,7,8,9],divisible(2))))\n",
    "print(\"# divisible by 0.5\")\n",
    "print(len(where([0,0.1,0.5,1,2,3,3.5,3.9,4],divisible(0.5))))"
   ]
  },
  {
   "cell_type": "markdown",
   "metadata": {},
   "source": [
    "*Exercise 7:* Repeat the previous exercise using `lambda` and the built-in python functions sum and map instead of your solution above. "
   ]
  },
  {
   "cell_type": "code",
   "execution_count": 36,
   "metadata": {},
   "outputs": [
    {
     "name": "stdout",
     "output_type": "stream",
     "text": [
      "# even\n",
      "2\n",
      "# odd:\n",
      "2\n",
      "# greater than 1:\n",
      "3\n",
      "# less than 1:\n",
      "3\n",
      "# equal to 1:\n",
      "2\n",
      "# divisible by 2:\n",
      "4\n",
      "# divisible by 0.5\n",
      "7\n"
     ]
    }
   ],
   "source": [
    "### BEGIN SOLUTION\n",
    "print(\"# even\")\n",
    "print(sum(map(lambda x: int(x) == x and (x/2) == int(x/2), [1,2,1.5,2.5,-2,-2.5,1,-1.5])))\n",
    "print(\"# odd:\")\n",
    "print(sum(map(lambda x: int(x) == x and (x/2) != int(x/2), [1,2,1.5,2.5,-2,-2.5,1,-1.5])))\n",
    "print(\"# greater than 1:\")\n",
    "print(sum(map(lambda x: x > 1, [1,2,1.5,2.5,-2,-2.5,1,-1.5])))\n",
    "print(\"# less than 1:\")\n",
    "print(sum(map(lambda x: x < 1, [1,2,1.5,2.5,-2,-2.5,1,-1.5])))\n",
    "print(\"# equal to 1:\")\n",
    "print(sum(map(lambda x: x == 1, [1,2,1.5,2.5,-2,-2.5,1,-1.5])))\n",
    "print(\"# divisible by 2:\")\n",
    "print(sum(map(lambda x: int(x / 2) == (x / 2), [1,2,3,4,5,6,7,8,9])))\n",
    "print(\"# divisible by 0.5\")\n",
    "print(sum(map(lambda x: int(x / 0.5) == (x / 0.5), [0,0.1,0.5,1,2,3,3.5,3.9,4])))\n",
    "### END SOLUTION"
   ]
  },
  {
   "cell_type": "markdown",
   "metadata": {},
   "source": [
    "## Monte Carlo\n",
    "\n",
    "*Exercise 7:* Write a \"generator\" function called `generate_function(func,x_min,x_max,N)`, that instead of generating a flat distribution, generates a distribution with functional form coded in `func`. Note that `func` will always be > 0.  \n",
    "\n",
    "Use the test function below and your histogramming functions above to demonstrate that your generator is working properly.\n",
    "\n",
    "Hint: A simple, but slow, solution is to a draw random number `test_x` within the specified range and another number `p` between the `min` and `max` of the function (which you will have to determine). If `p<=function(test_x)`, then place `test_x` on the output. If not, repeat the process, drawing two new numbers. Repeat until you have the specified number of generated numbers, `N`. For this problem, it's OK to determine the `min` and `max` by numerically sampling the function.  "
   ]
  },
  {
   "cell_type": "code",
   "execution_count": 37,
   "metadata": {},
   "outputs": [],
   "source": [
    "# Comments/Notes:\n",
    "#\n",
    "# The directions for Exercise 7 seem incoherent to me, and I'm convinced that this is \n",
    "# a problem of the Monte Carlo questions not being written very carefully rather than \n",
    "# a problem of my reading comprehension.\n",
    "# \n",
    "# Some of the clearest errors I can point to are that:\n",
    "# A) The Gaussian function given for Exercise 8 isn't the correct probability density\n",
    "# function; the exponential should be divided by the product of the standard deviation \n",
    "# and the root of two pi.\n",
    "# B) 68% of a normal distibution is within a standard deviation of the mean, not \"one \n",
    "# variance\" of it.\n",
    "# \n",
    "# I'm just going to interpret my task as follows:\n",
    "# The \"func\" argument in \"generate_function(func,x_min,x_max,N)\" is to be understood as\n",
    "# being a probability density function (PDF) of some sort. From there, the distribution\n",
    "# specified by the PDF must 'be truncated' down to fit on the range specified by the \n",
    "# x_min and x_max arguments, and finally, your output must consist of random values which\n",
    "# are 'sampled' from this truncated distribution, generated by any means necessary.\n",
    "#\n",
    "# With my interpretation in mind, the idea of my solution is as follows: The N argument\n",
    "# will be multiplied by 10, and then 10N unique, random/uniform values will be sampled\n",
    "# from within the range specified by x_min and x_max and stored within a list of sampled\n",
    "# values. From the list of sampled values, a corresponding list of probability densities\n",
    "# will then be computed by use of the \"func\" argument. From the list of the probability\n",
    "# densities, a third list of sums of the probability densities will be computed, with\n",
    "# the i'th element of this list consisting of the sum of the first I elements of the\n",
    "# list of probability densities. Finally, to sample a random value, random/uniform \n",
    "# numbers between zero and the 10N'th sum of densities will be generated, and the sum\n",
    "# of probability densities that the sampled number is closest to will determine which\n",
    "# of the unique values will be used. \n",
    "\n",
    "def generate_function(func,x_min,x_max,N=1000):\n",
    "    out = list()\n",
    "    ### BEGIN SOLUTION\n",
    "    def rank(lst, val):\n",
    "        for i in range(N * 10):\n",
    "            if lst[i] >= val:\n",
    "                return i\n",
    "        else:\n",
    "            return (N * 10 - 1)\n",
    "    vals = generate_uniform((N*10),x_min,x_max)\n",
    "    densities = list(map(func, vals))\n",
    "    sums = [densities[0]]\n",
    "    for i in range(N * 10 - 1):\n",
    "        sums += [sums[i] + densities[i + 1]]\n",
    "    probeVals = generate_uniform(N,0,sums[N * 10 - 1])\n",
    "    for val in probeVals:\n",
    "        out.append(vals[rank(sums,val)])\n",
    "    ### END SOLUTION\n",
    "    \n",
    "    return out"
   ]
  },
  {
   "cell_type": "code",
   "execution_count": 38,
   "metadata": {},
   "outputs": [
    {
     "name": "stdout",
     "output_type": "stream",
     "text": [
      "[     -9.982532407131401,     -8.984319778791406] : ##############\n",
      "[     -8.984319778791406,     -7.986107150451409] : ###############\n",
      "[     -7.986107150451409,    -6.9878945221114135] : ###########\n",
      "[    -6.9878945221114135,     -5.989681893771417] : #########\n",
      "[     -5.989681893771417,     -4.991469265431421] : ########\n",
      "[     -4.991469265431421,    -3.9932566370914255] : #######\n",
      "[    -3.9932566370914255,     -2.995044008751429] : ####\n",
      "[     -2.995044008751429,    -1.9968313804114333] : ##\n",
      "[    -1.9968313804114333,    -0.9986187520714367] : #\n",
      "[    -0.9986187520714367,-0.00040612373144099934] : #\n",
      "[-0.00040612373144099934,     0.9978065046085547] : ##\n",
      "[     0.9978065046085547,     1.9960191329485504] : #####\n",
      "[     1.9960191329485504,      2.994231761288546] : ######\n",
      "[      2.994231761288546,     3.9924443896285435] : #######\n",
      "[     3.9924443896285435,      4.990657017968539] : #########\n",
      "[      4.990657017968539,      5.988869646308535] : ##########\n",
      "[      5.988869646308535,      6.987082274648532] : ############\n",
      "[      6.987082274648532,      7.985294902988528] : ###############\n",
      "[      7.985294902988528,      8.983507531328524] : ###################\n",
      "[      8.983507531328524,       9.98172015966852] : ####################\n",
      "\n"
     ]
    }
   ],
   "source": [
    "# A test function\n",
    "def test_func(x,a=1,b=1):\n",
    "    return abs(a*x+b)\n",
    "\n",
    "test = generate_function(test_func,-10,10,1000)\n",
    "_1,_2=draw_histogram(test,20)"
   ]
  },
  {
   "cell_type": "markdown",
   "metadata": {},
   "source": [
    "*Exercise 8:* Use your function to generate 1000 numbers that are normal distributed, using the `gaussian` function below. Confirm the mean and variance of the data is close to the mean and variance you specify when building the Gaussian. Histogram the data. "
   ]
  },
  {
   "cell_type": "code",
   "execution_count": 39,
   "metadata": {},
   "outputs": [
    {
     "name": "stdout",
     "output_type": "stream",
     "text": [
      "Mean of g1: 0.08305689056402159\n",
      "Variance of g1: 1.0219030997750482\n",
      "[   -3.61544660122727, -3.2717494825245605] : \n",
      "[ -3.2717494825245605, -2.9280523638218514] : \n",
      "[ -2.9280523638218514, -2.5843552451191423] : \n",
      "[ -2.5843552451191423, -2.2406581264164327] : \n",
      "[ -2.2406581264164327, -1.8969610077137233] : #\n",
      "[ -1.8969610077137233,  -1.553263889011014] : #####\n",
      "[  -1.553263889011014, -1.2095667703083048] : ########\n",
      "[ -1.2095667703083048, -0.8658696516055953] : ###########\n",
      "[ -0.8658696516055953, -0.5221725329028857] : ##################\n",
      "[ -0.5221725329028857,-0.17847541420017654] : ####################\n",
      "[-0.17847541420017654,  0.1652217045025326] : ##################\n",
      "[  0.1652217045025326,  0.5089188232052422] : ##################\n",
      "[  0.5089188232052422,  0.8526159419079518] : ##################\n",
      "[  0.8526159419079518,  1.1963130606106605] : #############\n",
      "[  1.1963130606106605,    1.54001017931337] : ###########\n",
      "[    1.54001017931337,  1.8837072980160796] : #####\n",
      "[  1.8837072980160796,   2.227404416718789] : ###\n",
      "[   2.227404416718789,  2.5711015354214988] : #\n",
      "[  2.5711015354214988,  2.9147986541242075] : \n",
      "[  2.9147986541242075,   3.258495772826917] : \n",
      "\n",
      "Mean of g2: 9.857254395131445\n",
      "Variance of g2: 8.845705485665796\n",
      "[0.06517366974407146,  1.041557561205907] : \n",
      "[  1.041557561205907, 2.0179414526677424] : \n",
      "[ 2.0179414526677424,  2.994325344129578] : #\n",
      "[  2.994325344129578, 3.9707092355914133] : #\n",
      "[ 3.9707092355914133, 4.9470931270532486] : ####\n",
      "[ 4.9470931270532486,  5.923477018515085] : #####\n",
      "[  5.923477018515085,   6.89986090997692] : ###########\n",
      "[   6.89986090997692,  7.876244801438755] : ############\n",
      "[  7.876244801438755,  8.852628692900591] : ################\n",
      "[  8.852628692900591,  9.829012584362426] : ################\n",
      "[  9.829012584362426, 10.805396475824262] : ####################\n",
      "[ 10.805396475824262, 11.781780367286098] : #################\n",
      "[ 11.781780367286098, 12.758164258747932] : ###############\n",
      "[ 12.758164258747932, 13.734548150209768] : #########\n",
      "[ 13.734548150209768, 14.710932041671603] : #######\n",
      "[ 14.710932041671603, 15.687315933133439] : ###\n",
      "[ 15.687315933133439, 16.663699824595277] : #\n",
      "[ 16.663699824595277, 17.640083716057113] : \n",
      "[ 17.640083716057113, 18.616467607518942] : \n",
      "[ 18.616467607518942, 19.592851498980778] : \n",
      "\n",
      "Mean of g3: -0.0400903362948582\n",
      "Variance of g3: 0.9106640570837983\n",
      "[ -3.2895704852099774, -2.9845719616395527] : \n",
      "[ -2.9845719616395527,  -2.679573438069128] : \n",
      "[  -2.679573438069128, -2.3745749144987034] : \n",
      "[ -2.3745749144987034, -2.0695763909282787] : #\n",
      "[ -2.0695763909282787, -1.7645778673578538] : ##\n",
      "[ -1.7645778673578538,  -1.459579343787429] : ####\n",
      "[  -1.459579343787429, -1.1545808202170043] : #########\n",
      "[ -1.1545808202170043, -0.8495822966465796] : ###########\n",
      "[ -0.8495822966465796, -0.5445837730761549] : ##########\n",
      "[ -0.5445837730761549,-0.23958524950573024] : ####################\n",
      "[-0.23958524950573024, 0.06541327406469444] : ##################\n",
      "[ 0.06541327406469444, 0.37041179763511956] : ###############\n",
      "[ 0.37041179763511956,  0.6754103212055442] : ################\n",
      "[  0.6754103212055442,  0.9804088447759689] : ############\n",
      "[  0.9804088447759689,  1.2854073683463936] : ########\n",
      "[  1.2854073683463936,  1.5904058919168182] : ####\n",
      "[  1.5904058919168182,   1.895404415487243] : ###\n",
      "[   1.895404415487243,  2.2004029390576676] : ##\n",
      "[  2.2004029390576676,  2.5054014626280923] : \n",
      "[  2.5054014626280923,   2.810399986198517] : \n",
      "\n",
      "Mean of g4: 9.798342051196128\n",
      "Variance of g4: 8.692921573955541\n",
      "[0.8872016398533749,1.7969763643575676] : \n",
      "[1.7969763643575676,2.7067510888617603] : \n",
      "[2.7067510888617603,3.6165258133659526] : #\n",
      "[3.6165258133659526, 4.526300537870146] : ###\n",
      "[ 4.526300537870146, 5.436075262374338] : #####\n",
      "[ 5.436075262374338,  6.34584998687853] : ########\n",
      "[  6.34584998687853,7.2556247113827235] : #############\n",
      "[7.2556247113827235, 8.165399435886915] : ###############\n",
      "[ 8.165399435886915, 9.075174160391109] : ###################\n",
      "[ 9.075174160391109, 9.984948884895301] : ####################\n",
      "[ 9.984948884895301,10.894723609399493] : ##################\n",
      "[10.894723609399493,11.804498333903686] : ###############\n",
      "[11.804498333903686,12.714273058407878] : ###############\n",
      "[12.714273058407878,13.624047782912072] : ##########\n",
      "[13.624047782912072,14.533822507416264] : #######\n",
      "[14.533822507416264,15.443597231920457] : #####\n",
      "[15.443597231920457, 16.35337195642465] : ##\n",
      "[ 16.35337195642465, 17.26314668092884] : #\n",
      "[ 17.26314668092884,18.172921405433037] : \n",
      "[18.172921405433037,19.082696129937226] : \n",
      "\n",
      "Mean of truncated g3: 0.006052607985333683\n",
      "Variance of truncated g3: 0.5481502818469509\n",
      "[  -1.4931867922071926,  -1.3436836327802524] : ######\n",
      "[  -1.3436836327802524,  -1.1941804733533121] : ########\n",
      "[  -1.1941804733533121,  -1.0446773139263719] : #########\n",
      "[  -1.0446773139263719,  -0.8951741544994316] : #########\n",
      "[  -0.8951741544994316,  -0.7456709950724913] : ##############\n",
      "[  -0.7456709950724913,  -0.5961678356455511] : #################\n",
      "[  -0.5961678356455511, -0.44666467621861083] : #############\n",
      "[ -0.44666467621861083,  -0.2971615167916706] : ##################\n",
      "[  -0.2971615167916706, -0.14765835736473032] : ##################\n",
      "[ -0.14765835736473032,0.0018448020622099381] : ##################\n",
      "[0.0018448020622099381,   0.1513479614891502] : ####################\n",
      "[   0.1513479614891502,  0.30085112091609045] : ###################\n",
      "[  0.30085112091609045,   0.4503542803430307] : ###############\n",
      "[   0.4503542803430307,    0.599857439769971] : ##############\n",
      "[    0.599857439769971,   0.7493605991969112] : ###########\n",
      "[   0.7493605991969112,   0.8988637586238515] : ##############\n",
      "[   0.8988637586238515,   1.0483669180507917] : ###########\n",
      "[   1.0483669180507917,    1.197870077477732] : #######\n",
      "[    1.197870077477732,   1.3473732369046723] : #########\n",
      "[   1.3473732369046723,   1.4968763963316125] : ########\n",
      "\n"
     ]
    }
   ],
   "source": [
    "import math\n",
    "\n",
    "def gaussian(mean, sigma):\n",
    "    def f(x):\n",
    "        return math.exp(-((x-mean)**2)/(2*sigma**2))/math.sqrt(math.pi*sigma)\n",
    "    return f\n",
    "\n",
    "# Example Instantiation\n",
    "g1=gaussian(0,1)\n",
    "g2=gaussian(10,3)\n",
    "\n",
    "# Corrected gaussian probability density function:\n",
    "def gaussian_corrected(mean, sigma):\n",
    "    def f(x):\n",
    "        return math.exp(-((x-mean)**2)/(2*sigma**2))/(sigma*math.sqrt(2*math.pi))\n",
    "    return f\n",
    "\n",
    "g3=gaussian_corrected(0,1)\n",
    "g4=gaussian_corrected(10,3)\n",
    "\n",
    "# Tests:\n",
    "test1 = generate_function(g1,-4,4,1000)\n",
    "test2 = generate_function(g2,-2,22,1000)\n",
    "test3 = generate_function(g3,-4,4,1000)\n",
    "test4 = generate_function(g4,-2,22,1000)\n",
    "# g1 tests:\n",
    "print(\"Mean of g1:\", mean(test1))\n",
    "print(\"Variance of g1:\", variance(test1))\n",
    "_1,_2=draw_histogram(test1,20)\n",
    "# g2 tests:\n",
    "print(\"Mean of g2:\", mean(test2))\n",
    "print(\"Variance of g2:\", variance(test2))\n",
    "_1,_2=draw_histogram(test2,20)\n",
    "# g3 tests:\n",
    "print(\"Mean of g3:\", mean(test3))\n",
    "print(\"Variance of g3:\", variance(test3))\n",
    "_1,_2=draw_histogram(test3,20)\n",
    "# g4 tests:\n",
    "print(\"Mean of g4:\", mean(test4))\n",
    "print(\"Variance of g4:\", variance(test4))\n",
    "_1,_2=draw_histogram(test4,20)\n",
    "# g3 truncation test:\n",
    "test5 = generate_function(g3,-1.5,1.5,1000)\n",
    "print(\"Mean of truncated g3:\", mean(test5))\n",
    "print(\"Variance of truncated g3:\", variance(test5))\n",
    "_1,_2=draw_histogram(test5,20)"
   ]
  },
  {
   "cell_type": "markdown",
   "metadata": {},
   "source": [
    "*Exercise 9:* Combine your `generate_function`, `where`, and `in_range` functions above to create an integrate function. Use your integrate function to show that approximately 68% of Normal distribution is within one variance."
   ]
  },
  {
   "cell_type": "code",
   "execution_count": 139,
   "metadata": {},
   "outputs": [],
   "source": [
    "# Note: Due to my use of an unconventional method of making \"generate_function(func,x_min,x_max,N=1000)\" display\n",
    "# expected behavior, I must also write \"integrate(func, x_min, x_max, n_points=1000)\" in an unconventional manner\n",
    "# in order to accommodate it such that where() and in_range() are not practical to use. \n",
    "# My basic idea is to use \"generate_function(func,x_min,x_max,N=1000)\" to generate a distribution from the \"func\"\n",
    "# argument, transform the data into a list of probability densities, and then take a Riemann sum of the probability\n",
    "# densities.\n",
    "# As extra verification, I show that my solution approximately follows the 68-95-99.7 rule to compensate for my\n",
    "# unexpected methodology making it less clear if this behaves as expected.\n",
    "\n",
    "def integrate(func, x_min, x_max, n_points=1000):\n",
    "    data = sorted(generate_function(func,x_min,x_max,n_points))\n",
    "    densities = list(map(func,data))\n",
    "    integral=0\n",
    "    for i in range(n_points):\n",
    "        if i < (n_points - 1):\n",
    "            integral += densities[i]*(data[i+1]-data[i])\n",
    "        else:\n",
    "            integral += densities[i]*abs(x_max-data[i])\n",
    "    return integral"
   ]
  },
  {
   "cell_type": "code",
   "execution_count": 145,
   "metadata": {},
   "outputs": [
    {
     "name": "stdout",
     "output_type": "stream",
     "text": [
      "0.6826573436231497\n",
      "0.9543431572971955\n",
      "0.9970256019064669\n"
     ]
    }
   ],
   "source": [
    "g1=gaussian_corrected(0,1)\n",
    "oneSig = integrate(g1,-1,1,1000)\n",
    "print(oneSig)\n",
    "twoSig = integrate(g1,-2,2,2000)\n",
    "print(twoSig)\n",
    "threeSig = integrate(g1,-3,3,3000)\n",
    "print(threeSig)\n"
   ]
  },
  {
   "cell_type": "code",
   "execution_count": null,
   "metadata": {},
   "outputs": [],
   "source": []
  }
 ],
 "metadata": {
  "kernelspec": {
   "display_name": "Python 3 (ipykernel)",
   "language": "python",
   "name": "python3"
  },
  "language_info": {
   "codemirror_mode": {
    "name": "ipython",
    "version": 3
   },
   "file_extension": ".py",
   "mimetype": "text/x-python",
   "name": "python",
   "nbconvert_exporter": "python",
   "pygments_lexer": "ipython3",
   "version": "3.9.6"
  }
 },
 "nbformat": 4,
 "nbformat_minor": 4
}
